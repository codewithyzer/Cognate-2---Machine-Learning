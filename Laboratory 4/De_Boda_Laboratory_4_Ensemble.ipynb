{
  "nbformat": 4,
  "nbformat_minor": 0,
  "metadata": {
    "colab": {
      "provenance": []
    },
    "kernelspec": {
      "name": "python3",
      "display_name": "Python 3"
    },
    "language_info": {
      "name": "python"
    }
  },
  "cells": [
    {
      "cell_type": "markdown",
      "source": [
        "\n",
        "# Laboratory 4: Applying Ensemble Techniques to the Data"
      ],
      "metadata": {
        "id": "bG-9S4iAFDw4"
      }
    },
    {
      "cell_type": "markdown",
      "source": [
        "### 1. Import all the modules required to manipulate the data and evaluate the model:"
      ],
      "metadata": {
        "id": "EUjVtgDHFGlg"
      }
    },
    {
      "cell_type": "code",
      "execution_count": 2,
      "metadata": {
        "id": "ZwdCad64E-tp"
      },
      "outputs": [],
      "source": [
        "import pandas as pd\n",
        "import numpy as np\n",
        "\n",
        "%matplotlib inline\n",
        "import matplotlib.pyplot as plt\n",
        "\n",
        "from sklearn.model_selection import train_test_split\n",
        "from sklearn.metrics import accuracy_score, f1_score, confusion_matrix\n",
        "from sklearn.model_selection import KFold"
      ]
    },
    {
      "cell_type": "markdown",
      "source": [
        "### 2. Import your dataset that you used from previous laboratory"
      ],
      "metadata": {
        "id": "tMAdI_qGFLS5"
      }
    },
    {
      "cell_type": "code",
      "source": [
        "df = pd.read_csv('/content/DE_BODA Laboratory_Activity_3_Cleaned_dataset.csv')"
      ],
      "metadata": {
        "id": "9De2RV8_FS1V"
      },
      "execution_count": 3,
      "outputs": []
    },
    {
      "cell_type": "markdown",
      "source": [
        "### 3. Import and Read the dataset"
      ],
      "metadata": {
        "id": "AxBQZBwHFOzm"
      }
    },
    {
      "cell_type": "code",
      "source": [
        "df.head()"
      ],
      "metadata": {
        "id": "Gq7F2mZOFcem",
        "colab": {
          "base_uri": "https://localhost:8080/",
          "height": 273
        },
        "outputId": "c8f08d8d-dcf1-4573-cbcb-7069d244f3ca"
      },
      "execution_count": 4,
      "outputs": [
        {
          "output_type": "execute_result",
          "data": {
            "text/plain": [
              "   radius_mean  texture_mean  perimeter_mean  area_mean  smoothness_mean  \\\n",
              "0        17.99         10.38          122.80     1001.0          0.11840   \n",
              "1        20.57         17.77          132.90     1326.0          0.08474   \n",
              "2        19.69         21.25          130.00     1203.0          0.10960   \n",
              "3        11.42         20.38           77.58      386.1          0.14250   \n",
              "4        20.29         14.34          135.10     1297.0          0.10030   \n",
              "\n",
              "   compactness_mean  concavity_mean  concave points_mean  symmetry_mean  \\\n",
              "0           0.27760          0.3001              0.14710         0.2419   \n",
              "1           0.07864          0.0869              0.07017         0.1812   \n",
              "2           0.15990          0.1974              0.12790         0.2069   \n",
              "3           0.28390          0.2414              0.10520         0.2597   \n",
              "4           0.13280          0.1980              0.10430         0.1809   \n",
              "\n",
              "   fractal_dimension_mean  ...  texture_worst  perimeter_worst  area_worst  \\\n",
              "0                 0.07871  ...          17.33           184.60      2019.0   \n",
              "1                 0.05667  ...          23.41           158.80      1956.0   \n",
              "2                 0.05999  ...          25.53           152.50      1709.0   \n",
              "3                 0.09744  ...          26.50            98.87       567.7   \n",
              "4                 0.05883  ...          16.67           152.20      1575.0   \n",
              "\n",
              "   smoothness_worst  compactness_worst  concavity_worst  concave points_worst  \\\n",
              "0            0.1622             0.6656           0.7119                0.2654   \n",
              "1            0.1238             0.1866           0.2416                0.1860   \n",
              "2            0.1444             0.4245           0.4504                0.2430   \n",
              "3            0.2098             0.8663           0.6869                0.2575   \n",
              "4            0.1374             0.2050           0.4000                0.1625   \n",
              "\n",
              "   symmetry_worst  fractal_dimension_worst  diagnosis  \n",
              "0          0.4601                  0.11890          1  \n",
              "1          0.2750                  0.08902          1  \n",
              "2          0.3613                  0.08758          1  \n",
              "3          0.6638                  0.17300          1  \n",
              "4          0.2364                  0.07678          1  \n",
              "\n",
              "[5 rows x 31 columns]"
            ],
            "text/html": [
              "\n",
              "  <div id=\"df-6eab473e-1d1a-4658-b107-6dce1e1a8c3c\" class=\"colab-df-container\">\n",
              "    <div>\n",
              "<style scoped>\n",
              "    .dataframe tbody tr th:only-of-type {\n",
              "        vertical-align: middle;\n",
              "    }\n",
              "\n",
              "    .dataframe tbody tr th {\n",
              "        vertical-align: top;\n",
              "    }\n",
              "\n",
              "    .dataframe thead th {\n",
              "        text-align: right;\n",
              "    }\n",
              "</style>\n",
              "<table border=\"1\" class=\"dataframe\">\n",
              "  <thead>\n",
              "    <tr style=\"text-align: right;\">\n",
              "      <th></th>\n",
              "      <th>radius_mean</th>\n",
              "      <th>texture_mean</th>\n",
              "      <th>perimeter_mean</th>\n",
              "      <th>area_mean</th>\n",
              "      <th>smoothness_mean</th>\n",
              "      <th>compactness_mean</th>\n",
              "      <th>concavity_mean</th>\n",
              "      <th>concave points_mean</th>\n",
              "      <th>symmetry_mean</th>\n",
              "      <th>fractal_dimension_mean</th>\n",
              "      <th>...</th>\n",
              "      <th>texture_worst</th>\n",
              "      <th>perimeter_worst</th>\n",
              "      <th>area_worst</th>\n",
              "      <th>smoothness_worst</th>\n",
              "      <th>compactness_worst</th>\n",
              "      <th>concavity_worst</th>\n",
              "      <th>concave points_worst</th>\n",
              "      <th>symmetry_worst</th>\n",
              "      <th>fractal_dimension_worst</th>\n",
              "      <th>diagnosis</th>\n",
              "    </tr>\n",
              "  </thead>\n",
              "  <tbody>\n",
              "    <tr>\n",
              "      <th>0</th>\n",
              "      <td>17.99</td>\n",
              "      <td>10.38</td>\n",
              "      <td>122.80</td>\n",
              "      <td>1001.0</td>\n",
              "      <td>0.11840</td>\n",
              "      <td>0.27760</td>\n",
              "      <td>0.3001</td>\n",
              "      <td>0.14710</td>\n",
              "      <td>0.2419</td>\n",
              "      <td>0.07871</td>\n",
              "      <td>...</td>\n",
              "      <td>17.33</td>\n",
              "      <td>184.60</td>\n",
              "      <td>2019.0</td>\n",
              "      <td>0.1622</td>\n",
              "      <td>0.6656</td>\n",
              "      <td>0.7119</td>\n",
              "      <td>0.2654</td>\n",
              "      <td>0.4601</td>\n",
              "      <td>0.11890</td>\n",
              "      <td>1</td>\n",
              "    </tr>\n",
              "    <tr>\n",
              "      <th>1</th>\n",
              "      <td>20.57</td>\n",
              "      <td>17.77</td>\n",
              "      <td>132.90</td>\n",
              "      <td>1326.0</td>\n",
              "      <td>0.08474</td>\n",
              "      <td>0.07864</td>\n",
              "      <td>0.0869</td>\n",
              "      <td>0.07017</td>\n",
              "      <td>0.1812</td>\n",
              "      <td>0.05667</td>\n",
              "      <td>...</td>\n",
              "      <td>23.41</td>\n",
              "      <td>158.80</td>\n",
              "      <td>1956.0</td>\n",
              "      <td>0.1238</td>\n",
              "      <td>0.1866</td>\n",
              "      <td>0.2416</td>\n",
              "      <td>0.1860</td>\n",
              "      <td>0.2750</td>\n",
              "      <td>0.08902</td>\n",
              "      <td>1</td>\n",
              "    </tr>\n",
              "    <tr>\n",
              "      <th>2</th>\n",
              "      <td>19.69</td>\n",
              "      <td>21.25</td>\n",
              "      <td>130.00</td>\n",
              "      <td>1203.0</td>\n",
              "      <td>0.10960</td>\n",
              "      <td>0.15990</td>\n",
              "      <td>0.1974</td>\n",
              "      <td>0.12790</td>\n",
              "      <td>0.2069</td>\n",
              "      <td>0.05999</td>\n",
              "      <td>...</td>\n",
              "      <td>25.53</td>\n",
              "      <td>152.50</td>\n",
              "      <td>1709.0</td>\n",
              "      <td>0.1444</td>\n",
              "      <td>0.4245</td>\n",
              "      <td>0.4504</td>\n",
              "      <td>0.2430</td>\n",
              "      <td>0.3613</td>\n",
              "      <td>0.08758</td>\n",
              "      <td>1</td>\n",
              "    </tr>\n",
              "    <tr>\n",
              "      <th>3</th>\n",
              "      <td>11.42</td>\n",
              "      <td>20.38</td>\n",
              "      <td>77.58</td>\n",
              "      <td>386.1</td>\n",
              "      <td>0.14250</td>\n",
              "      <td>0.28390</td>\n",
              "      <td>0.2414</td>\n",
              "      <td>0.10520</td>\n",
              "      <td>0.2597</td>\n",
              "      <td>0.09744</td>\n",
              "      <td>...</td>\n",
              "      <td>26.50</td>\n",
              "      <td>98.87</td>\n",
              "      <td>567.7</td>\n",
              "      <td>0.2098</td>\n",
              "      <td>0.8663</td>\n",
              "      <td>0.6869</td>\n",
              "      <td>0.2575</td>\n",
              "      <td>0.6638</td>\n",
              "      <td>0.17300</td>\n",
              "      <td>1</td>\n",
              "    </tr>\n",
              "    <tr>\n",
              "      <th>4</th>\n",
              "      <td>20.29</td>\n",
              "      <td>14.34</td>\n",
              "      <td>135.10</td>\n",
              "      <td>1297.0</td>\n",
              "      <td>0.10030</td>\n",
              "      <td>0.13280</td>\n",
              "      <td>0.1980</td>\n",
              "      <td>0.10430</td>\n",
              "      <td>0.1809</td>\n",
              "      <td>0.05883</td>\n",
              "      <td>...</td>\n",
              "      <td>16.67</td>\n",
              "      <td>152.20</td>\n",
              "      <td>1575.0</td>\n",
              "      <td>0.1374</td>\n",
              "      <td>0.2050</td>\n",
              "      <td>0.4000</td>\n",
              "      <td>0.1625</td>\n",
              "      <td>0.2364</td>\n",
              "      <td>0.07678</td>\n",
              "      <td>1</td>\n",
              "    </tr>\n",
              "  </tbody>\n",
              "</table>\n",
              "<p>5 rows × 31 columns</p>\n",
              "</div>\n",
              "    <div class=\"colab-df-buttons\">\n",
              "\n",
              "  <div class=\"colab-df-container\">\n",
              "    <button class=\"colab-df-convert\" onclick=\"convertToInteractive('df-6eab473e-1d1a-4658-b107-6dce1e1a8c3c')\"\n",
              "            title=\"Convert this dataframe to an interactive table.\"\n",
              "            style=\"display:none;\">\n",
              "\n",
              "  <svg xmlns=\"http://www.w3.org/2000/svg\" height=\"24px\" viewBox=\"0 -960 960 960\">\n",
              "    <path d=\"M120-120v-720h720v720H120Zm60-500h600v-160H180v160Zm220 220h160v-160H400v160Zm0 220h160v-160H400v160ZM180-400h160v-160H180v160Zm440 0h160v-160H620v160ZM180-180h160v-160H180v160Zm440 0h160v-160H620v160Z\"/>\n",
              "  </svg>\n",
              "    </button>\n",
              "\n",
              "  <style>\n",
              "    .colab-df-container {\n",
              "      display:flex;\n",
              "      gap: 12px;\n",
              "    }\n",
              "\n",
              "    .colab-df-convert {\n",
              "      background-color: #E8F0FE;\n",
              "      border: none;\n",
              "      border-radius: 50%;\n",
              "      cursor: pointer;\n",
              "      display: none;\n",
              "      fill: #1967D2;\n",
              "      height: 32px;\n",
              "      padding: 0 0 0 0;\n",
              "      width: 32px;\n",
              "    }\n",
              "\n",
              "    .colab-df-convert:hover {\n",
              "      background-color: #E2EBFA;\n",
              "      box-shadow: 0px 1px 2px rgba(60, 64, 67, 0.3), 0px 1px 3px 1px rgba(60, 64, 67, 0.15);\n",
              "      fill: #174EA6;\n",
              "    }\n",
              "\n",
              "    .colab-df-buttons div {\n",
              "      margin-bottom: 4px;\n",
              "    }\n",
              "\n",
              "    [theme=dark] .colab-df-convert {\n",
              "      background-color: #3B4455;\n",
              "      fill: #D2E3FC;\n",
              "    }\n",
              "\n",
              "    [theme=dark] .colab-df-convert:hover {\n",
              "      background-color: #434B5C;\n",
              "      box-shadow: 0px 1px 3px 1px rgba(0, 0, 0, 0.15);\n",
              "      filter: drop-shadow(0px 1px 2px rgba(0, 0, 0, 0.3));\n",
              "      fill: #FFFFFF;\n",
              "    }\n",
              "  </style>\n",
              "\n",
              "    <script>\n",
              "      const buttonEl =\n",
              "        document.querySelector('#df-6eab473e-1d1a-4658-b107-6dce1e1a8c3c button.colab-df-convert');\n",
              "      buttonEl.style.display =\n",
              "        google.colab.kernel.accessAllowed ? 'block' : 'none';\n",
              "\n",
              "      async function convertToInteractive(key) {\n",
              "        const element = document.querySelector('#df-6eab473e-1d1a-4658-b107-6dce1e1a8c3c');\n",
              "        const dataTable =\n",
              "          await google.colab.kernel.invokeFunction('convertToInteractive',\n",
              "                                                    [key], {});\n",
              "        if (!dataTable) return;\n",
              "\n",
              "        const docLinkHtml = 'Like what you see? Visit the ' +\n",
              "          '<a target=\"_blank\" href=https://colab.research.google.com/notebooks/data_table.ipynb>data table notebook</a>'\n",
              "          + ' to learn more about interactive tables.';\n",
              "        element.innerHTML = '';\n",
              "        dataTable['output_type'] = 'display_data';\n",
              "        await google.colab.output.renderOutput(dataTable, element);\n",
              "        const docLink = document.createElement('div');\n",
              "        docLink.innerHTML = docLinkHtml;\n",
              "        element.appendChild(docLink);\n",
              "      }\n",
              "    </script>\n",
              "  </div>\n",
              "\n",
              "\n",
              "    <div id=\"df-560983ed-6ca9-42ba-be90-9a1285a4ea3b\">\n",
              "      <button class=\"colab-df-quickchart\" onclick=\"quickchart('df-560983ed-6ca9-42ba-be90-9a1285a4ea3b')\"\n",
              "                title=\"Suggest charts\"\n",
              "                style=\"display:none;\">\n",
              "\n",
              "<svg xmlns=\"http://www.w3.org/2000/svg\" height=\"24px\"viewBox=\"0 0 24 24\"\n",
              "     width=\"24px\">\n",
              "    <g>\n",
              "        <path d=\"M19 3H5c-1.1 0-2 .9-2 2v14c0 1.1.9 2 2 2h14c1.1 0 2-.9 2-2V5c0-1.1-.9-2-2-2zM9 17H7v-7h2v7zm4 0h-2V7h2v10zm4 0h-2v-4h2v4z\"/>\n",
              "    </g>\n",
              "</svg>\n",
              "      </button>\n",
              "\n",
              "<style>\n",
              "  .colab-df-quickchart {\n",
              "      --bg-color: #E8F0FE;\n",
              "      --fill-color: #1967D2;\n",
              "      --hover-bg-color: #E2EBFA;\n",
              "      --hover-fill-color: #174EA6;\n",
              "      --disabled-fill-color: #AAA;\n",
              "      --disabled-bg-color: #DDD;\n",
              "  }\n",
              "\n",
              "  [theme=dark] .colab-df-quickchart {\n",
              "      --bg-color: #3B4455;\n",
              "      --fill-color: #D2E3FC;\n",
              "      --hover-bg-color: #434B5C;\n",
              "      --hover-fill-color: #FFFFFF;\n",
              "      --disabled-bg-color: #3B4455;\n",
              "      --disabled-fill-color: #666;\n",
              "  }\n",
              "\n",
              "  .colab-df-quickchart {\n",
              "    background-color: var(--bg-color);\n",
              "    border: none;\n",
              "    border-radius: 50%;\n",
              "    cursor: pointer;\n",
              "    display: none;\n",
              "    fill: var(--fill-color);\n",
              "    height: 32px;\n",
              "    padding: 0;\n",
              "    width: 32px;\n",
              "  }\n",
              "\n",
              "  .colab-df-quickchart:hover {\n",
              "    background-color: var(--hover-bg-color);\n",
              "    box-shadow: 0 1px 2px rgba(60, 64, 67, 0.3), 0 1px 3px 1px rgba(60, 64, 67, 0.15);\n",
              "    fill: var(--button-hover-fill-color);\n",
              "  }\n",
              "\n",
              "  .colab-df-quickchart-complete:disabled,\n",
              "  .colab-df-quickchart-complete:disabled:hover {\n",
              "    background-color: var(--disabled-bg-color);\n",
              "    fill: var(--disabled-fill-color);\n",
              "    box-shadow: none;\n",
              "  }\n",
              "\n",
              "  .colab-df-spinner {\n",
              "    border: 2px solid var(--fill-color);\n",
              "    border-color: transparent;\n",
              "    border-bottom-color: var(--fill-color);\n",
              "    animation:\n",
              "      spin 1s steps(1) infinite;\n",
              "  }\n",
              "\n",
              "  @keyframes spin {\n",
              "    0% {\n",
              "      border-color: transparent;\n",
              "      border-bottom-color: var(--fill-color);\n",
              "      border-left-color: var(--fill-color);\n",
              "    }\n",
              "    20% {\n",
              "      border-color: transparent;\n",
              "      border-left-color: var(--fill-color);\n",
              "      border-top-color: var(--fill-color);\n",
              "    }\n",
              "    30% {\n",
              "      border-color: transparent;\n",
              "      border-left-color: var(--fill-color);\n",
              "      border-top-color: var(--fill-color);\n",
              "      border-right-color: var(--fill-color);\n",
              "    }\n",
              "    40% {\n",
              "      border-color: transparent;\n",
              "      border-right-color: var(--fill-color);\n",
              "      border-top-color: var(--fill-color);\n",
              "    }\n",
              "    60% {\n",
              "      border-color: transparent;\n",
              "      border-right-color: var(--fill-color);\n",
              "    }\n",
              "    80% {\n",
              "      border-color: transparent;\n",
              "      border-right-color: var(--fill-color);\n",
              "      border-bottom-color: var(--fill-color);\n",
              "    }\n",
              "    90% {\n",
              "      border-color: transparent;\n",
              "      border-bottom-color: var(--fill-color);\n",
              "    }\n",
              "  }\n",
              "</style>\n",
              "\n",
              "      <script>\n",
              "        async function quickchart(key) {\n",
              "          const quickchartButtonEl =\n",
              "            document.querySelector('#' + key + ' button');\n",
              "          quickchartButtonEl.disabled = true;  // To prevent multiple clicks.\n",
              "          quickchartButtonEl.classList.add('colab-df-spinner');\n",
              "          try {\n",
              "            const charts = await google.colab.kernel.invokeFunction(\n",
              "                'suggestCharts', [key], {});\n",
              "          } catch (error) {\n",
              "            console.error('Error during call to suggestCharts:', error);\n",
              "          }\n",
              "          quickchartButtonEl.classList.remove('colab-df-spinner');\n",
              "          quickchartButtonEl.classList.add('colab-df-quickchart-complete');\n",
              "        }\n",
              "        (() => {\n",
              "          let quickchartButtonEl =\n",
              "            document.querySelector('#df-560983ed-6ca9-42ba-be90-9a1285a4ea3b button');\n",
              "          quickchartButtonEl.style.display =\n",
              "            google.colab.kernel.accessAllowed ? 'block' : 'none';\n",
              "        })();\n",
              "      </script>\n",
              "    </div>\n",
              "\n",
              "    </div>\n",
              "  </div>\n"
            ],
            "application/vnd.google.colaboratory.intrinsic+json": {
              "type": "dataframe",
              "variable_name": "df"
            }
          },
          "metadata": {},
          "execution_count": 4
        }
      ]
    },
    {
      "cell_type": "markdown",
      "source": [
        "### 4. Split the dataset into training and validation sets."
      ],
      "metadata": {
        "id": "q4gps81QFfo-"
      }
    },
    {
      "cell_type": "code",
      "source": [
        "X = df.drop(columns='diagnosis')\n",
        "y = df['diagnosis']"
      ],
      "metadata": {
        "id": "U3g3g4_lqApP"
      },
      "execution_count": 7,
      "outputs": []
    },
    {
      "cell_type": "code",
      "source": [
        "X_train, X_test, y_train, y_test = train_test_split(X, y, test_size=0.25, random_state=11)"
      ],
      "metadata": {
        "id": "uSqH4pqSqAcw"
      },
      "execution_count": 11,
      "outputs": []
    },
    {
      "cell_type": "markdown",
      "source": [
        "#Ensemble Modelling"
      ],
      "metadata": {
        "id": "FqLu5bpEFoU2"
      }
    },
    {
      "cell_type": "markdown",
      "source": [
        "# Bagging"
      ],
      "metadata": {
        "id": "1ndoSsh0G3Lg"
      }
    },
    {
      "cell_type": "markdown",
      "source": [
        "### Use the Bagging Classifier!"
      ],
      "metadata": {
        "id": "cdbC6CZuFrQm"
      }
    },
    {
      "cell_type": "code",
      "source": [
        "# Import Bagging Classifier\n",
        "from sklearn.tree import DecisionTreeClassifier\n",
        "from sklearn.ensemble import BaggingClassifier"
      ],
      "metadata": {
        "id": "WMjO90L8Fuh-"
      },
      "execution_count": 10,
      "outputs": []
    },
    {
      "cell_type": "code",
      "source": [
        "# Specify Hyperparameters\n",
        "dt_params = {\n",
        "    'criterion': 'entropy',\n",
        "    'random_state': 11\n",
        "}\n",
        "dt = DecisionTreeClassifier(**dt_params)\n",
        "# dt = DecisionTreeClassifier(criterion='entropy', random_state=11)\n",
        "\n",
        "bc_params = {\n",
        "    'estimator': dt,\n",
        "    'n_estimators': 20,\n",
        "    'max_samples': 0.5,\n",
        "    'random_state': 11,\n",
        "    'n_jobs': -1,\n",
        "}\n",
        "\n",
        "bc = BaggingClassifier(**bc_params)"
      ],
      "metadata": {
        "id": "YXryvNxaF0EM"
      },
      "execution_count": 12,
      "outputs": []
    },
    {
      "cell_type": "markdown",
      "source": [
        "### Fit the bagging classifier model to the training data and calculate the prediction accuracy."
      ],
      "metadata": {
        "id": "AcmqQxn3Fu6O"
      }
    },
    {
      "cell_type": "code",
      "source": [
        "dt.fit(X_train, y_train)\n",
        "dt_preds_train = dt.predict(X_train)\n",
        "dt_preds_val = dt.predict(X_test)\n",
        "\n",
        "\n",
        "print('Decision Tree:\\n> Accuracy on training data = {:.4f}\\n> Accuracy on validation data = {:.4f}'.format(\n",
        "    accuracy_score(y_true=y_train, y_pred=dt_preds_train),\n",
        "    accuracy_score(y_true=y_test, y_pred=dt_preds_val)\n",
        "))\n"
      ],
      "metadata": {
        "id": "jsOR7WV2F9gH",
        "colab": {
          "base_uri": "https://localhost:8080/",
          "height": 0
        },
        "outputId": "6e2d7907-82e4-4793-be65-6ca4a29c32b8"
      },
      "execution_count": 13,
      "outputs": [
        {
          "output_type": "stream",
          "name": "stdout",
          "text": [
            "Decision Tree:\n",
            "> Accuracy on training data = 1.0000\n",
            "> Accuracy on validation data = 0.9510\n"
          ]
        }
      ]
    },
    {
      "cell_type": "markdown",
      "source": [
        "### Fit the bagging classifier model to the test data and calculate the prediction accuracy."
      ],
      "metadata": {
        "id": "QsvfAY3_GCon"
      }
    },
    {
      "cell_type": "code",
      "source": [
        "bc.fit(X_train, y_train)\n",
        "bc_preds_train = bc.predict(X_train)\n",
        "bc_preds_val = bc.predict(X_test)\n",
        "\n",
        "print('Bagging Classifier:\\n> Accuracy on training data = {:.4f}\\n> Accuracy on validation data = {:.4f}'.format(\n",
        "    accuracy_score(y_true=y_train, y_pred=bc_preds_train),\n",
        "    accuracy_score(y_true=y_test, y_pred=bc_preds_val)\n",
        "))"
      ],
      "metadata": {
        "id": "fmjhwVExGB_Q",
        "colab": {
          "base_uri": "https://localhost:8080/",
          "height": 0
        },
        "outputId": "8c959c0d-eddc-434a-dcac-5ed0e9e540cd"
      },
      "execution_count": 16,
      "outputs": [
        {
          "output_type": "stream",
          "name": "stdout",
          "text": [
            "Bagging Classifier:\n",
            "> Accuracy on training data = 0.9883\n",
            "> Accuracy on validation data = 0.9650\n"
          ]
        }
      ]
    },
    {
      "cell_type": "code",
      "source": [
        "from sklearn.ensemble import RandomForestClassifier"
      ],
      "metadata": {
        "id": "cyFxnygJtEQX"
      },
      "execution_count": 22,
      "outputs": []
    },
    {
      "cell_type": "code",
      "source": [
        "rf_params = {\n",
        "    'n_estimators': 100,\n",
        "    'criterion': 'entropy',\n",
        "    'max_features': 0.5,\n",
        "    'min_samples_leaf': 5,\n",
        "    'random_state': 11,\n",
        "    'n_jobs': -1\n",
        "}\n",
        "rf = RandomForestClassifier(**rf_params)\n",
        "\n",
        "bc_params = {\n",
        "    'estimator': rf,\n",
        "    'n_estimators': 100,\n",
        "    'max_samples': 0.5,\n",
        "    'random_state': 11,\n",
        "    'n_jobs': -1\n",
        "}\n",
        "bc = BaggingClassifier(**bc_params)"
      ],
      "metadata": {
        "id": "ePRvwUs5tJ98"
      },
      "execution_count": 23,
      "outputs": []
    },
    {
      "cell_type": "code",
      "source": [
        "rf.fit(X_train, y_train)\n",
        "rf_preds_train = rf.predict(X_train)\n",
        "rf_preds_val = rf.predict(X_test)\n",
        "\n",
        "print('Random Forest:\\n> Accuracy on training data = {:.4f}\\n> Accuracy on validation data = {:.4f}'.format(\n",
        "    accuracy_score(y_true=y_train, y_pred=rf_preds_train),\n",
        "    accuracy_score(y_true=y_test, y_pred=rf_preds_val)\n",
        "))"
      ],
      "metadata": {
        "colab": {
          "base_uri": "https://localhost:8080/",
          "height": 0
        },
        "id": "HfIU8YbktMba",
        "outputId": "57ed484c-103f-45bf-abac-44e35322d093"
      },
      "execution_count": 24,
      "outputs": [
        {
          "output_type": "stream",
          "name": "stdout",
          "text": [
            "Random Forest:\n",
            "> Accuracy on training data = 0.9812\n",
            "> Accuracy on validation data = 0.9790\n"
          ]
        }
      ]
    },
    {
      "cell_type": "code",
      "source": [
        "bc.fit(X_train, y_train)\n",
        "bc_preds_train = bc.predict(X_train)\n",
        "bc_preds_val = bc.predict(X_test)\n",
        "\n",
        "print('Bagging Classifier:\\n> Accuracy on training data = {:.4f}\\n> Accuracy on validation data = {:.4f}'.format(\n",
        "    accuracy_score(y_true=y_train, y_pred=bc_preds_train),\n",
        "    accuracy_score(y_true=y_test, y_pred=bc_preds_val)\n",
        "))"
      ],
      "metadata": {
        "colab": {
          "base_uri": "https://localhost:8080/",
          "height": 0
        },
        "id": "qpD0XeOetSTh",
        "outputId": "17294f4c-5cb2-4a42-e140-caa92b8d4424"
      },
      "execution_count": 25,
      "outputs": [
        {
          "output_type": "stream",
          "name": "stdout",
          "text": [
            "Bagging Classifier:\n",
            "> Accuracy on training data = 0.9671\n",
            "> Accuracy on validation data = 0.9860\n"
          ]
        }
      ]
    },
    {
      "cell_type": "markdown",
      "source": [
        "# Boosting"
      ],
      "metadata": {
        "id": "KYh5n-h8Gz8u"
      }
    },
    {
      "cell_type": "markdown",
      "source": [
        "### Import the ensemble classifier for boosting:"
      ],
      "metadata": {
        "id": "6zYH_hYqHFV3"
      }
    },
    {
      "cell_type": "code",
      "source": [
        "from sklearn.ensemble import AdaBoostClassifier"
      ],
      "metadata": {
        "id": "ifCoPSQJG4pX"
      },
      "execution_count": 17,
      "outputs": []
    },
    {
      "cell_type": "markdown",
      "source": [
        "### Specify the hyperparameters and initialize the model."
      ],
      "metadata": {
        "id": "PUs4TEbLHNZP"
      }
    },
    {
      "cell_type": "code",
      "source": [
        "dt_params = {\n",
        "    'max_depth': 1,\n",
        "    'random_state': 11\n",
        "}\n",
        "dt = DecisionTreeClassifier(**dt_params)\n",
        "\n",
        "ab_params = {\n",
        "    'n_estimators': 80,\n",
        "    'estimator': dt,\n",
        "    'random_state': 11\n",
        "}\n",
        "ab1 = AdaBoostClassifier(**ab_params)"
      ],
      "metadata": {
        "id": "JFNMFm9CHb7G"
      },
      "execution_count": 29,
      "outputs": []
    },
    {
      "cell_type": "code",
      "source": [
        "rf_params = {\n",
        "    'n_estimators': 100,\n",
        "    'criterion': 'entropy',\n",
        "    'max_features': 0.5,\n",
        "    'min_samples_leaf': 10,\n",
        "    'random_state': 11,\n",
        "    'n_jobs': -1\n",
        "}\n",
        "rf = RandomForestClassifier(**rf_params)\n",
        "\n",
        "ab_params = {\n",
        "    'n_estimators': 80,\n",
        "    'estimator': rf,\n",
        "    'random_state': 11\n",
        "}\n",
        "ab2 = AdaBoostClassifier(**ab_params)"
      ],
      "metadata": {
        "id": "ii5g3wfSt0Qx"
      },
      "execution_count": 30,
      "outputs": []
    },
    {
      "cell_type": "markdown",
      "source": [
        "### Fit the model to the training data."
      ],
      "metadata": {
        "id": "IzVslLo2HcDR"
      }
    },
    {
      "cell_type": "code",
      "source": [
        "ab1.fit(X_train, y_train)\n",
        "abfit = ab1.fit(X_train, y_train)\n",
        "ab_preds_train = ab1.predict(X_train)\n",
        "ab_preds_val = ab1.predict(X_test)\n",
        "\n",
        "print('Adaptive Boosting for Decision Tree:\\n> Accuracy on training data = {:.4f}\\n> Accuracy on validation data = {:.4f}\\n'.format(\n",
        "    accuracy_score(y_true=y_train, y_pred=ab_preds_train),\n",
        "    accuracy_score(y_true=y_test, y_pred=ab_preds_val)\n",
        "))\n",
        "\n",
        "ab2.fit(X_train, y_train)\n",
        "abfit = ab2.fit(X_train, y_train)\n",
        "ab_preds_train = ab2.predict(X_train)\n",
        "ab_preds_val = ab2.predict(X_test)\n",
        "\n",
        "print('Adaptive Boosting for Random Forest:\\n> Accuracy on training data = {:.4f}\\n> Accuracy on validation data = {:.4f}'.format(\n",
        "    accuracy_score(y_true=y_train, y_pred=ab_preds_train),\n",
        "    accuracy_score(y_true=y_test, y_pred=ab_preds_val)\n",
        "))"
      ],
      "metadata": {
        "id": "-p-U9a3uHdI4",
        "colab": {
          "base_uri": "https://localhost:8080/",
          "height": 0
        },
        "outputId": "3f69126f-6812-4d1e-a08a-303cff860d5d"
      },
      "execution_count": 31,
      "outputs": [
        {
          "output_type": "stream",
          "name": "stdout",
          "text": [
            "Adaptive Boosting for Decision Tree:\n",
            "> Accuracy on training data = 1.0000\n",
            "> Accuracy on validation data = 0.9790\n",
            "\n",
            "Adaptive Boosting for Random Forest:\n",
            "> Accuracy on training data = 1.0000\n",
            "> Accuracy on validation data = 0.9720\n"
          ]
        }
      ]
    },
    {
      "cell_type": "markdown",
      "source": [
        "### Calculate the prediction accuracy of the model on the training and validation data for a varying number of base estimators."
      ],
      "metadata": {
        "id": "QpO1d1BXHlXP"
      }
    },
    {
      "cell_type": "code",
      "source": [
        "ab_params = {\n",
        "    'estimator': dt,\n",
        "    'random_state': 11\n",
        "}\n",
        "\n",
        "n_estimator_values = list(range(5, 250, 5))\n",
        "train_accuracies, val_accuracies = [], []\n",
        "\n",
        "for n_estimators in n_estimator_values:\n",
        "    ab = AdaBoostClassifier(n_estimators=n_estimators, **ab_params)\n",
        "    ab.fit(X_train, y_train)\n",
        "    ab_preds_train = ab.predict(X_train)\n",
        "    ab_preds_val = ab.predict(X_test)\n",
        "\n",
        "    train_accuracies.append(accuracy_score(y_true=y_train, y_pred=ab_preds_train))\n",
        "    val_accuracies.append(accuracy_score(y_true=y_test, y_pred=ab_preds_val))"
      ],
      "metadata": {
        "id": "m0S4BZmEHm8f"
      },
      "execution_count": 33,
      "outputs": []
    },
    {
      "cell_type": "code",
      "source": [
        "train_accuracies"
      ],
      "metadata": {
        "colab": {
          "base_uri": "https://localhost:8080/",
          "height": 0
        },
        "id": "lG0-s61juVeD",
        "outputId": "acb00797-257a-4887-c58c-bbe706b363e8"
      },
      "execution_count": 34,
      "outputs": [
        {
          "output_type": "execute_result",
          "data": {
            "text/plain": [
              "[0.9389671361502347,\n",
              " 0.9694835680751174,\n",
              " 0.9765258215962441,\n",
              " 0.9953051643192489,\n",
              " 0.9976525821596244,\n",
              " 0.9976525821596244,\n",
              " 0.9976525821596244,\n",
              " 1.0,\n",
              " 1.0,\n",
              " 1.0,\n",
              " 1.0,\n",
              " 1.0,\n",
              " 1.0,\n",
              " 1.0,\n",
              " 1.0,\n",
              " 1.0,\n",
              " 1.0,\n",
              " 1.0,\n",
              " 1.0,\n",
              " 1.0,\n",
              " 1.0,\n",
              " 1.0,\n",
              " 1.0,\n",
              " 1.0,\n",
              " 1.0,\n",
              " 1.0,\n",
              " 1.0,\n",
              " 1.0,\n",
              " 1.0,\n",
              " 1.0,\n",
              " 1.0,\n",
              " 1.0,\n",
              " 1.0,\n",
              " 1.0,\n",
              " 1.0,\n",
              " 1.0,\n",
              " 1.0,\n",
              " 1.0,\n",
              " 1.0,\n",
              " 1.0,\n",
              " 1.0,\n",
              " 1.0,\n",
              " 1.0,\n",
              " 1.0,\n",
              " 1.0,\n",
              " 1.0,\n",
              " 1.0,\n",
              " 1.0,\n",
              " 1.0]"
            ]
          },
          "metadata": {},
          "execution_count": 34
        }
      ]
    },
    {
      "cell_type": "code",
      "source": [
        "val_accuracies"
      ],
      "metadata": {
        "colab": {
          "base_uri": "https://localhost:8080/",
          "height": 0
        },
        "id": "SmNLfOTxuVTQ",
        "outputId": "fc6ccd93-149f-42ca-bde3-590d7a38db51"
      },
      "execution_count": 35,
      "outputs": [
        {
          "output_type": "execute_result",
          "data": {
            "text/plain": [
              "[0.9440559440559441,\n",
              " 0.972027972027972,\n",
              " 0.972027972027972,\n",
              " 0.972027972027972,\n",
              " 0.965034965034965,\n",
              " 0.965034965034965,\n",
              " 0.986013986013986,\n",
              " 0.9790209790209791,\n",
              " 0.986013986013986,\n",
              " 0.986013986013986,\n",
              " 0.993006993006993,\n",
              " 0.986013986013986,\n",
              " 0.986013986013986,\n",
              " 0.9790209790209791,\n",
              " 0.993006993006993,\n",
              " 0.9790209790209791,\n",
              " 0.986013986013986,\n",
              " 0.986013986013986,\n",
              " 0.986013986013986,\n",
              " 0.986013986013986,\n",
              " 0.993006993006993,\n",
              " 0.986013986013986,\n",
              " 0.993006993006993,\n",
              " 0.993006993006993,\n",
              " 0.986013986013986,\n",
              " 0.993006993006993,\n",
              " 0.986013986013986,\n",
              " 0.986013986013986,\n",
              " 0.993006993006993,\n",
              " 0.993006993006993,\n",
              " 0.993006993006993,\n",
              " 0.993006993006993,\n",
              " 0.986013986013986,\n",
              " 0.986013986013986,\n",
              " 0.993006993006993,\n",
              " 0.986013986013986,\n",
              " 0.993006993006993,\n",
              " 0.993006993006993,\n",
              " 0.993006993006993,\n",
              " 0.993006993006993,\n",
              " 0.993006993006993,\n",
              " 0.993006993006993,\n",
              " 0.993006993006993,\n",
              " 0.993006993006993,\n",
              " 0.993006993006993,\n",
              " 0.993006993006993,\n",
              " 0.993006993006993,\n",
              " 0.993006993006993,\n",
              " 0.993006993006993]"
            ]
          },
          "metadata": {},
          "execution_count": 35
        }
      ]
    },
    {
      "cell_type": "code",
      "source": [
        "rf.fit(X_train, y_train)\n",
        "ab_preds_train = rf.predict(X_train)\n",
        "ab_preds_val = rf.predict(X_test)\n",
        "\n",
        "import joblib\n",
        "\n",
        "joblib.dump(rf, 'rf_model.pkl')"
      ],
      "metadata": {
        "colab": {
          "base_uri": "https://localhost:8080/",
          "height": 0
        },
        "id": "Hbre5vT4u_Py",
        "outputId": "549826a4-70f3-4e48-e765-d8f879a1a50f"
      },
      "execution_count": 38,
      "outputs": [
        {
          "output_type": "execute_result",
          "data": {
            "text/plain": [
              "['rf_model.pkl']"
            ]
          },
          "metadata": {},
          "execution_count": 38
        }
      ]
    },
    {
      "cell_type": "code",
      "source": [
        "from sklearn.metrics import precision_recall_curve, average_precision_score\n",
        "\n",
        "y_score = rf.predict_proba(X_test)[:, 1]\n",
        "precision, recall, thresholds = precision_recall_curve(y_test, y_score)\n",
        "\n",
        "avg_precision = average_precision_score(y_test, y_score)\n",
        "print(avg_precision)"
      ],
      "metadata": {
        "colab": {
          "base_uri": "https://localhost:8080/",
          "height": 0
        },
        "id": "01O6IxajvDNf",
        "outputId": "e13c4aea-22d4-4bf5-924a-7b3f36edb06f"
      },
      "execution_count": 40,
      "outputs": [
        {
          "output_type": "stream",
          "name": "stdout",
          "text": [
            "0.9976754475375056\n"
          ]
        }
      ]
    },
    {
      "cell_type": "markdown",
      "source": [
        "### Plot a line graph to visualize the trend of the prediction accuracies on both the training and validation datasets:"
      ],
      "metadata": {
        "id": "4HINsIJMHpi-"
      }
    },
    {
      "cell_type": "code",
      "source": [
        "plt.figure(figsize=(8, 6))\n",
        "\n",
        "# Plot Precision-Recall curve\n",
        "plt.plot(recall, precision, color='b', lw=2, label='Precision-Recall curve')\n",
        "\n",
        "# Correct way: use hlines to plot a horizontal dashed line at avg_precision\n",
        "plt.hlines(avg_precision, xmin=0, xmax=1, colors='r', linestyles='--', label=f'Avg Precision = {avg_precision:.2f}')\n",
        "\n",
        "plt.xlabel('Recall')\n",
        "plt.ylabel('Precision')\n",
        "plt.title('Precision-Recall Curve')\n",
        "plt.legend(loc='best')\n",
        "plt.grid()\n",
        "plt.show()\n"
      ],
      "metadata": {
        "id": "QUCFj2IyHuaw",
        "colab": {
          "base_uri": "https://localhost:8080/",
          "height": 564
        },
        "outputId": "482e81ea-86b1-4e3e-c7a8-68bd8ec1d757"
      },
      "execution_count": 41,
      "outputs": [
        {
          "output_type": "display_data",
          "data": {
            "text/plain": [
              "<Figure size 800x600 with 1 Axes>"
            ],
            "image/png": "[encoded data removed]"
          },
          "metadata": {}
        }
      ]
    },
    {
      "cell_type": "code",
      "source": [
        "plt.figure(figsize=(10,7))\n",
        "plt.plot(n_estimator_values, train_accuracies, label='Train')\n",
        "plt.plot(n_estimator_values, val_accuracies, label='Validation')\n",
        "\n",
        "plt.ylabel('Accuracy score')\n",
        "plt.xlabel('n_estimators')\n",
        "\n",
        "plt.legend()\n",
        "plt.show()"
      ],
      "metadata": {
        "colab": {
          "base_uri": "https://localhost:8080/",
          "height": 619
        },
        "id": "UtakT8WSvN3e",
        "outputId": "6da382c1-2560-4d9d-89ae-83de79fcdca5"
      },
      "execution_count": 42,
      "outputs": [
        {
          "output_type": "display_data",
          "data": {
            "text/plain": [
              "<Figure size 1000x700 with 1 Axes>"
            ],
            "image/png": "[encoded data removed]"
          },
          "metadata": {}
        }
      ]
    }
  ]
}